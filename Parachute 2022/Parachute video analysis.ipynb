{
 "cells": [
  {
   "cell_type": "markdown",
   "metadata": {},
   "source": [
    "# ***Parachute video analysis***\n",
    "---\n",
    "1. 動画情報確認\n",
    "   * フレーム数確認\n",
    "   * フレーム幅,高確認\n",
    "1. 動画上のフレーム当たり秒数確認\n",
    "   * 動画のフレーム率を確認し,フレーム当たり秒数を取り出す\n",
    "1. 動画上のピクセル当たりの実長確認\n",
    "   * 動画の一フレームを取り出し,フレームあたら実長を取り出す\n",
    "1. 落下時間確認\n",
    "   * 落下開始時刻(フレーム)確認\n",
    "   * パラシュート展開時刻(フレーム)確認\n",
    "   * 着地時刻(フレーム)確認\n",
    "1. 落下軌跡確認\n",
    "   * 動画上に点を取り,軌跡を求める\n",
    "1. 時間ー距離グラフ\n",
    "   * 6からとった点を用いてピクセル-時間座標系作成\n",
    "   * ピクセル-時間座標系をメートル-時間座標系に変換\n",
    "   * 点をグラフ化する\n",
    "1. 時間ー速度グラフ\n",
    "1. 動画から求めたグラフと比較しながら抗力を求める\n",
    "   * F = ma\n",
    "      * ma = mg -D\n",
    "1. 抗力係数を求める\n",
    "   * ma = mg - 0.5ρ(v^2)ACd\n"
   ]
  },
  {
   "cell_type": "markdown",
   "metadata": {},
   "source": [
    "---\n",
    "### 1. 動画情報確認\n",
    "   * フレーム数確認\n",
    "   * フレーム幅、高確認"
   ]
  },
  {
   "cell_type": "code",
   "execution_count": null,
   "metadata": {},
   "outputs": [],
   "source": [
    "import cv2\n",
    "cap = cv2.VideoCapture('20220425//123123.MP4')\n",
    "i = 1\n",
    "\n",
    "while cap.isOpened():\n",
    "    ret, frame = cap.read()\n",
    "    if not ret:\n",
    "        break\n",
    "\n",
    "    cv2.imshow('video',frame)\n",
    "\n",
    "    if cv2.waitKey(1) == ord('q'):\n",
    "        break\n",
    "    i+=1\n",
    "    \n",
    "print(f'フレーム高 : {cap.get(cv2.CAP_PROP_FRAME_HEIGHT)}\\nフレーム幅 : {cap.get(cv2.CAP_PROP_FRAME_WIDTH)}')\n",
    "cap.release()\n",
    "cv2.destroyAllWindows()\n",
    "print(f'総フレーム数 : {i}')"
   ]
  },
  {
   "cell_type": "markdown",
   "metadata": {},
   "source": [
    "---\n",
    "### 2. 動画上のフレーム当たり秒数確認\n",
    "   * 動画のフレーム率を確認しフレーム当たり秒数を取り出す"
   ]
  },
  {
   "cell_type": "code",
   "execution_count": null,
   "metadata": {},
   "outputs": [],
   "source": []
  },
  {
   "cell_type": "markdown",
   "metadata": {},
   "source": [
    "---\n",
    "### 3. 動画上のピクセル当たりの実長確認\n",
    "* 動画の一フレームを取り出し,フレームあたら実長を取り出す"
   ]
  },
  {
   "cell_type": "code",
   "execution_count": 16,
   "metadata": {},
   "outputs": [],
   "source": [
    "import cv2\n",
    "cap = cv2.VideoCapture('extra_video.mp4')\n",
    "\n",
    "while cap.isOpened():\n",
    "    ret, frame = cap.read()\n",
    "\n",
    "    if not ret:\n",
    "        break\n",
    "    cv2.line(frame,(30,30),(30,30),(255,255,255),2,cv2.LINE_AA)\n",
    "    cv2.line(frame,(400,400),(400,400),(255,255,255),2,cv2.LINE_AA)\n",
    "    cv2.imshow('video',frame)\n",
    "\n",
    "    if cv2.waitKey() == 27:\n",
    "        break\n",
    "cap.release()\n",
    "cv2.destroyAllWindows()"
   ]
  },
  {
   "cell_type": "markdown",
   "metadata": {},
   "source": [
    "---\n",
    "### 4. 落下時間確認\n",
    "* 落下開始時刻(フレーム)確認\n",
    "* パラシュート展開時刻(フレーム)確認\n",
    "* 着地時刻(フレーム)確認　"
   ]
  },
  {
   "cell_type": "code",
   "execution_count": null,
   "metadata": {},
   "outputs": [],
   "source": [
    "import cv2\n",
    "cap = cv2.VideoCapture('extra_video.mp4')\n",
    "i = 1\n",
    "\n",
    "while cap.isOpened():\n",
    "    ret, frame = cap.read()\n",
    "\n",
    "    if not ret:\n",
    "        break\n",
    "\n",
    "    cv2.imshow('video',frame)\n",
    "\n",
    "    if 100<i<110:\n",
    "        if cv2.waitKey() == ord('p'):\n",
    "            print(i)\n",
    "    elif 600<i<610:\n",
    "        if cv2.waitKey() == ord('p'):\n",
    "            print(i)\n",
    "\n",
    "    else:\n",
    "        if cv2.waitKey(1) == 27:\n",
    "          break\n",
    "    i+=1\n",
    "cap.release()\n",
    "cv2.destroyAllWindows()"
   ]
  },
  {
   "cell_type": "markdown",
   "metadata": {},
   "source": [
    "---\n",
    "### 5. 落下軌跡確認\n",
    "* 動画上に点を取り、軌跡を求める"
   ]
  },
  {
   "cell_type": "code",
   "execution_count": null,
   "metadata": {},
   "outputs": [],
   "source": []
  },
  {
   "cell_type": "markdown",
   "metadata": {},
   "source": [
    "---\n",
    "### 6. 時間-距離グラフ\n",
    "   * 6からとった点を用いて時間-ピクセル座標系作成\n",
    "   * ピクセル-時間座標系を時間-メートル座標系に変換\n",
    "   * 点をグラフ化する"
   ]
  },
  {
   "cell_type": "code",
   "execution_count": null,
   "metadata": {},
   "outputs": [],
   "source": []
  },
  {
   "cell_type": "markdown",
   "metadata": {},
   "source": [
    "### 7. 時間-速度グラフ"
   ]
  },
  {
   "cell_type": "code",
   "execution_count": null,
   "metadata": {},
   "outputs": [],
   "source": []
  },
  {
   "cell_type": "markdown",
   "metadata": {},
   "source": [
    "---\n",
    "### 8. 動画から求めたグラフと比較しながら抗力を求める\n",
    "* F = ma\n",
    "   * ma = mg - D"
   ]
  },
  {
   "cell_type": "code",
   "execution_count": null,
   "metadata": {},
   "outputs": [],
   "source": []
  },
  {
   "cell_type": "markdown",
   "metadata": {},
   "source": [
    "---\n",
    "### 9. 抗力係数を求める\n",
    "   * D = 0.5ρ(v^2)ACd"
   ]
  },
  {
   "cell_type": "code",
   "execution_count": null,
   "metadata": {},
   "outputs": [],
   "source": []
  }
 ],
 "metadata": {
  "kernelspec": {
   "display_name": "Python 3.10.2 64-bit",
   "language": "python",
   "name": "python3"
  },
  "language_info": {
   "codemirror_mode": {
    "name": "ipython",
    "version": 3
   },
   "file_extension": ".py",
   "mimetype": "text/x-python",
   "name": "python",
   "nbconvert_exporter": "python",
   "pygments_lexer": "ipython3",
   "version": "3.10.2"
  },
  "orig_nbformat": 4,
  "vscode": {
   "interpreter": {
    "hash": "369f2c481f4da34e4445cda3fffd2e751bd1c4d706f27375911949ba6bb62e1c"
   }
  }
 },
 "nbformat": 4,
 "nbformat_minor": 2
}
