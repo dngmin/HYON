{
 "cells": [
  {
   "cell_type": "markdown",
   "metadata": {},
   "source": [
    "# ***Thrust timeline***\n",
    "---"
   ]
  },
  {
   "cell_type": "markdown",
   "metadata": {},
   "source": [
    "* import"
   ]
  },
  {
   "cell_type": "code",
   "execution_count": 1,
   "metadata": {},
   "outputs": [],
   "source": [
    "import pandas as pd\n",
    "import numpy as np\n",
    "import matplotlib.pyplot as plt"
   ]
  },
  {
   "cell_type": "markdown",
   "metadata": {},
   "source": [
    "* Datafile bringing"
   ]
  },
  {
   "cell_type": "code",
   "execution_count": null,
   "metadata": {},
   "outputs": [],
   "source": [
    "data = pd.read_csv()\n",
    "data.set_index('t [s]')"
   ]
  },
  {
   "cell_type": "markdown",
   "metadata": {},
   "source": [
    "* Time cutting"
   ]
  },
  {
   "cell_type": "code",
   "execution_count": null,
   "metadata": {},
   "outputs": [],
   "source": [
    "data = pd.read_csv()\n",
    "\n",
    "Tmax = data['T [N]'].max()\n",
    "\n",
    "for i in np.arange(data['T [N]'].idxmax(),-1,-1):\n",
    "    if data['T [N]'][i] < 1.0e-5:\n",
    "        i+=1\n",
    "        break\n",
    "for j in np.arange(data['T [N]'].idxmax(),len(data),1):\n",
    "    if data['T [N]'][j] < Tmax * 0.015:\n",
    "        j-=1\n",
    "        break\n",
    "\n",
    "print(f\"original time: {data['t [s]'][i]} ~ {data['t [s]'][j]}\")\n",
    "\n",
    "t0 = data['t [s]'][i-1]\n",
    "data['t [s]'] = data['t [s]'] - t0\n",
    "\n",
    "data = data[i:j]\n",
    "data.to_csv('I260_2022.06.12.csv',index=None)\n",
    "data.set_index('t [s]')"
   ]
  },
  {
   "cell_type": "markdown",
   "metadata": {},
   "source": [
    "* graph"
   ]
  },
  {
   "cell_type": "code",
   "execution_count": null,
   "metadata": {},
   "outputs": [],
   "source": [
    "data = pd.read_csv()\n",
    "\n",
    "plt.plot(data['t [s]'],data['T [N]'])\n",
    "plt.title('Thrust vs time')\n",
    "plt.xlabel('time [s]')\n",
    "plt.ylabel('Thrust [N]')\n",
    "plt.show()"
   ]
  },
  {
   "cell_type": "markdown",
   "metadata": {},
   "source": [
    "---\n",
    "# operating time"
   ]
  },
  {
   "cell_type": "code",
   "execution_count": null,
   "metadata": {},
   "outputs": [],
   "source": [
    "data = data = pd.read_csv()\n",
    "\n",
    "Tmax = data['T [N]'].max()\n",
    "\n",
    "for i in np.arange(data['T [N]'].idxmax(),-1,-1):\n",
    "    if data['T [N]'][i] < Tmax * 0.05:\n",
    "        i+=1\n",
    "        t1 = data['t [s]'][i]\n",
    "        break\n",
    "for j in np.arange(data['T [N]'].idxmax(),len(data),1):\n",
    "    if data['T [N]'][j] < Tmax * 0.05:\n",
    "        j-=1\n",
    "        t2 = data['t [s]'][j]\n",
    "        break\n",
    "print(f't1 = {t1}[s]\\nt2 = {t2}[s]\\noperating time = {t2 - t1}[s]')"
   ]
  },
  {
   "cell_type": "markdown",
   "metadata": {},
   "source": [
    "* Total impulse & mean thrust & thrust max"
   ]
  },
  {
   "cell_type": "code",
   "execution_count": null,
   "metadata": {},
   "outputs": [],
   "source": [
    "data = data = pd.read_csv()\n",
    "\n",
    "Tmax = data['T [N]'].max()\n",
    "T_idxmax = data['T [N]'].idxmax()\n",
    "\n",
    "for i in np.arange(data['T [N]'].idxmax(),-1,-1):\n",
    "    if data['T [N]'][i] < Tmax * 0.05:\n",
    "        i+=1\n",
    "        t1 = data['t [s]'][i]\n",
    "        break\n",
    "for j in np.arange(data['T [N]'].idxmax(),len(data),1):\n",
    "    if data['T [N]'][j] < Tmax * 0.05:\n",
    "        j-=1\n",
    "        t2 = data['t [s]'][j]\n",
    "        break\n",
    "\n",
    "Total_T = 0\n",
    "for n in np.arange(i,j,1):\n",
    "    dt = round(data['t [s]'][n+1] - data['t [s]'][n],10)\n",
    "    dT = data['T [N]'][n]\n",
    "    \n",
    "    Ts =round(dt * dT,10)\n",
    "    Total_T += Ts\n",
    "\n",
    "print(f\"\\\n",
    "Total impulse : {Total_T} [Ns]\\n\\\n",
    "mean thrust   : {data['T [N]'][i:j].mean()} [N]\\n\")\n",
    "print(f\"\\\n",
    "Thrust_max = {data['T [N]'][T_idxmax]}[N]\\n\\\n",
    "         t = {data['t [s]'][T_idxmax]}[s]\")"
   ]
  },
  {
   "cell_type": "markdown",
   "metadata": {},
   "source": [
    "* dT/dt define"
   ]
  },
  {
   "cell_type": "code",
   "execution_count": 8,
   "metadata": {},
   "outputs": [],
   "source": [
    "# for n in np.arange(0,len(data)-1,1):\n",
    "#     dT = round((data['T [N]'][n+1] - data['T [N]'][n]) / (data['t [s]'][n+1] - data['t [s]'][n]),10)\n",
    "#     print(dT)"
   ]
  },
  {
   "cell_type": "markdown",
   "metadata": {},
   "source": [
    "---\n",
    "# burning time"
   ]
  },
  {
   "cell_type": "code",
   "execution_count": null,
   "metadata": {},
   "outputs": [],
   "source": [
    "data = data = pd.read_csv('fft_thrust20220612_121047.txt',sep='\\t')\n",
    "\n",
    "Tmax = data['T [N]'].max()\n",
    "\n",
    "for i in np.arange(data['T [N]'].idxmax(),-1,-1):\n",
    "    if data['T [N]'][i] < Tmax * 0.05:\n",
    "        i+=1\n",
    "        t1 = data['t [s]'][i]\n",
    "        break\n",
    "for j in np.arange(data['T [N]'].idxmax(),len(data),1):\n",
    "    if (data['T [N]'][j+1] - data['T [N]'][j] ) / (data['t [s]'][j+1] - data['t [s]'][j])< -1000:\n",
    "        j-=1\n",
    "        t2 = data['t [s]'][j]\n",
    "        break\n",
    "print(f't1 = {t1}[s]\\nt2 = {t2}[s]\\nburing time = {t2 - t1}[s]')"
   ]
  },
  {
   "cell_type": "code",
   "execution_count": null,
   "metadata": {},
   "outputs": [],
   "source": [
    "data = data = pd.read_csv('fft_thrust20220612_121047.txt',sep='\\t')\n",
    "\n",
    "Tmax = data['T [N]'].max()\n",
    "\n",
    "smp_list = {\n",
    "    't' : [],\n",
    "    'T' : []\n",
    "}\n",
    "\n",
    "for i in np.arange(data['T [N]'].idxmax(),-1,-1):\n",
    "    if data['T [N]'][i] < Tmax * 0.05:\n",
    "        i+=1\n",
    "        t1 = data['t [s]'][i]\n",
    "        break\n",
    "\n",
    "for j in np.arange(data['T [N]'].idxmax(),len(data),100):\n",
    "    T_mean = data['T [N]'][j:j+100].mean()\n",
    "    t_mean = data['t [s]'][j]\n",
    "    smp_list['t'].append(t_mean)\n",
    "    smp_list['T'].append(T_mean)\n",
    "\n",
    "for k in np.arange(0,len(smp_list['t']),1):\n",
    "    d = (smp_list['T'][k] - smp_list['T'][k+1]) / (smp_list['t'][k] - smp_list['t'][k+1])\n",
    "    print(d)"
   ]
  }
 ],
 "metadata": {
  "interpreter": {
   "hash": "369f2c481f4da34e4445cda3fffd2e751bd1c4d706f27375911949ba6bb62e1c"
  },
  "kernelspec": {
   "display_name": "Python 3.10.2 64-bit",
   "language": "python",
   "name": "python3"
  },
  "language_info": {
   "codemirror_mode": {
    "name": "ipython",
    "version": 3
   },
   "file_extension": ".py",
   "mimetype": "text/x-python",
   "name": "python",
   "nbconvert_exporter": "python",
   "pygments_lexer": "ipython3",
   "version": "3.10.2"
  },
  "orig_nbformat": 4
 },
 "nbformat": 4,
 "nbformat_minor": 2
}
