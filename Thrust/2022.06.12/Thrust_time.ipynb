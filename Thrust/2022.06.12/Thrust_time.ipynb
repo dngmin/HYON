{
 "cells": [
  {
   "cell_type": "markdown",
   "metadata": {},
   "source": [
    "# ***Thrust timeline***\n",
    "---"
   ]
  },
  {
   "cell_type": "markdown",
   "metadata": {},
   "source": [
    "* import"
   ]
  },
  {
   "cell_type": "code",
   "execution_count": 2,
   "metadata": {},
   "outputs": [],
   "source": [
    "import pandas as pd\n",
    "import numpy as np\n",
    "import matplotlib.pyplot as plt"
   ]
  },
  {
   "cell_type": "markdown",
   "metadata": {},
   "source": [
    "* Datafile bringing"
   ]
  },
  {
   "cell_type": "code",
   "execution_count": 65,
   "metadata": {},
   "outputs": [
    {
     "data": {
      "text/html": [
       "<div>\n",
       "<style scoped>\n",
       "    .dataframe tbody tr th:only-of-type {\n",
       "        vertical-align: middle;\n",
       "    }\n",
       "\n",
       "    .dataframe tbody tr th {\n",
       "        vertical-align: top;\n",
       "    }\n",
       "\n",
       "    .dataframe thead th {\n",
       "        text-align: right;\n",
       "    }\n",
       "</style>\n",
       "<table border=\"1\" class=\"dataframe\">\n",
       "  <thead>\n",
       "    <tr style=\"text-align: right;\">\n",
       "      <th></th>\n",
       "      <th>T [N]</th>\n",
       "    </tr>\n",
       "    <tr>\n",
       "      <th>t [s]</th>\n",
       "      <th></th>\n",
       "    </tr>\n",
       "  </thead>\n",
       "  <tbody>\n",
       "    <tr>\n",
       "      <th>0.0001</th>\n",
       "      <td>4.465538</td>\n",
       "    </tr>\n",
       "    <tr>\n",
       "      <th>0.0002</th>\n",
       "      <td>4.436067</td>\n",
       "    </tr>\n",
       "    <tr>\n",
       "      <th>0.0003</th>\n",
       "      <td>4.406573</td>\n",
       "    </tr>\n",
       "    <tr>\n",
       "      <th>0.0004</th>\n",
       "      <td>4.377055</td>\n",
       "    </tr>\n",
       "    <tr>\n",
       "      <th>0.0005</th>\n",
       "      <td>4.347517</td>\n",
       "    </tr>\n",
       "    <tr>\n",
       "      <th>...</th>\n",
       "      <td>...</td>\n",
       "    </tr>\n",
       "    <tr>\n",
       "      <th>134.1496</th>\n",
       "      <td>4.612482</td>\n",
       "    </tr>\n",
       "    <tr>\n",
       "      <th>134.1497</th>\n",
       "      <td>4.583153</td>\n",
       "    </tr>\n",
       "    <tr>\n",
       "      <th>134.1498</th>\n",
       "      <td>4.553792</td>\n",
       "    </tr>\n",
       "    <tr>\n",
       "      <th>134.1499</th>\n",
       "      <td>4.524402</td>\n",
       "    </tr>\n",
       "    <tr>\n",
       "      <th>134.1500</th>\n",
       "      <td>4.494984</td>\n",
       "    </tr>\n",
       "  </tbody>\n",
       "</table>\n",
       "<p>1341500 rows × 1 columns</p>\n",
       "</div>"
      ],
      "text/plain": [
       "             T [N]\n",
       "t [s]             \n",
       "0.0001    4.465538\n",
       "0.0002    4.436067\n",
       "0.0003    4.406573\n",
       "0.0004    4.377055\n",
       "0.0005    4.347517\n",
       "...            ...\n",
       "134.1496  4.612482\n",
       "134.1497  4.583153\n",
       "134.1498  4.553792\n",
       "134.1499  4.524402\n",
       "134.1500  4.494984\n",
       "\n",
       "[1341500 rows x 1 columns]"
      ]
     },
     "execution_count": 65,
     "metadata": {},
     "output_type": "execute_result"
    }
   ],
   "source": [
    "data = pd.read_csv('fft_thrust20220612_121047.txt',sep='\\t')\n",
    "data.set_index('t [s]')"
   ]
  },
  {
   "cell_type": "markdown",
   "metadata": {},
   "source": [
    "* Time cutting"
   ]
  },
  {
   "cell_type": "code",
   "execution_count": 3,
   "metadata": {},
   "outputs": [
    {
     "name": "stdout",
     "output_type": "stream",
     "text": [
      "original time: 106.3101 ~ 108.6234\n"
     ]
    },
    {
     "data": {
      "text/html": [
       "<div>\n",
       "<style scoped>\n",
       "    .dataframe tbody tr th:only-of-type {\n",
       "        vertical-align: middle;\n",
       "    }\n",
       "\n",
       "    .dataframe tbody tr th {\n",
       "        vertical-align: top;\n",
       "    }\n",
       "\n",
       "    .dataframe thead th {\n",
       "        text-align: right;\n",
       "    }\n",
       "</style>\n",
       "<table border=\"1\" class=\"dataframe\">\n",
       "  <thead>\n",
       "    <tr style=\"text-align: right;\">\n",
       "      <th></th>\n",
       "      <th>T [N]</th>\n",
       "    </tr>\n",
       "    <tr>\n",
       "      <th>t [s]</th>\n",
       "      <th></th>\n",
       "    </tr>\n",
       "  </thead>\n",
       "  <tbody>\n",
       "    <tr>\n",
       "      <th>0.0001</th>\n",
       "      <td>0.362943</td>\n",
       "    </tr>\n",
       "    <tr>\n",
       "      <th>0.0002</th>\n",
       "      <td>1.180233</td>\n",
       "    </tr>\n",
       "    <tr>\n",
       "      <th>0.0003</th>\n",
       "      <td>2.008105</td>\n",
       "    </tr>\n",
       "    <tr>\n",
       "      <th>0.0004</th>\n",
       "      <td>2.846559</td>\n",
       "    </tr>\n",
       "    <tr>\n",
       "      <th>0.0005</th>\n",
       "      <td>3.695594</td>\n",
       "    </tr>\n",
       "    <tr>\n",
       "      <th>...</th>\n",
       "      <td>...</td>\n",
       "    </tr>\n",
       "    <tr>\n",
       "      <th>2.3129</th>\n",
       "      <td>7.827973</td>\n",
       "    </tr>\n",
       "    <tr>\n",
       "      <th>2.3130</th>\n",
       "      <td>7.817849</td>\n",
       "    </tr>\n",
       "    <tr>\n",
       "      <th>2.3131</th>\n",
       "      <td>7.807796</td>\n",
       "    </tr>\n",
       "    <tr>\n",
       "      <th>2.3132</th>\n",
       "      <td>7.797816</td>\n",
       "    </tr>\n",
       "    <tr>\n",
       "      <th>2.3133</th>\n",
       "      <td>7.787909</td>\n",
       "    </tr>\n",
       "  </tbody>\n",
       "</table>\n",
       "<p>23133 rows × 1 columns</p>\n",
       "</div>"
      ],
      "text/plain": [
       "           T [N]\n",
       "t [s]           \n",
       "0.0001  0.362943\n",
       "0.0002  1.180233\n",
       "0.0003  2.008105\n",
       "0.0004  2.846559\n",
       "0.0005  3.695594\n",
       "...          ...\n",
       "2.3129  7.827973\n",
       "2.3130  7.817849\n",
       "2.3131  7.807796\n",
       "2.3132  7.797816\n",
       "2.3133  7.787909\n",
       "\n",
       "[23133 rows x 1 columns]"
      ]
     },
     "execution_count": 3,
     "metadata": {},
     "output_type": "execute_result"
    }
   ],
   "source": [
    "data = pd.read_csv('fft_thrust20220612_121047.txt',sep='\\t')\n",
    "\n",
    "Tmax = data['T [N]'].max()\n",
    "\n",
    "for i in np.arange(data['T [N]'].idxmax(),-1,-1):\n",
    "    if data['T [N]'][i] < 1.0e-5:\n",
    "        i+=1\n",
    "        break\n",
    "for j in np.arange(data['T [N]'].idxmax(),len(data),1):\n",
    "    if data['T [N]'][j] < Tmax * 0.015:\n",
    "        j-=1\n",
    "        break\n",
    "\n",
    "print(f\"original time: {data['t [s]'][i]} ~ {data['t [s]'][j]}\")\n",
    "\n",
    "t0 = data['t [s]'][i-1]\n",
    "data['t [s]'] = data['t [s]'] - t0\n",
    "\n",
    "data = data[i:j]\n",
    "data.to_csv('I260_2022.06.12.csv',index=None)\n",
    "data.set_index('t [s]')"
   ]
  },
  {
   "cell_type": "markdown",
   "metadata": {},
   "source": [
    "* graph"
   ]
  },
  {
   "cell_type": "code",
   "execution_count": 67,
   "metadata": {},
   "outputs": [
    {
     "data": {
      "image/png": "[encoded data removed]",
      "text/plain": [
       "<Figure size 432x288 with 1 Axes>"
      ]
     },
     "metadata": {
      "needs_background": "light"
     },
     "output_type": "display_data"
    }
   ],
   "source": [
    "data = pd.read_csv('I260_2022.06.12.csv')\n",
    "\n",
    "plt.plot(data['t [s]'],data['T [N]'])\n",
    "plt.title('Thrust vs time')\n",
    "plt.xlabel('time [s]')\n",
    "plt.ylabel('Thrust [N]')\n",
    "plt.show()"
   ]
  },
  {
   "cell_type": "markdown",
   "metadata": {},
   "source": [
    "* thrust max"
   ]
  },
  {
   "cell_type": "code",
   "execution_count": 68,
   "metadata": {},
   "outputs": [
    {
     "name": "stdout",
     "output_type": "stream",
     "text": [
      "Thrust_max = 518.2092448212345[N]\n",
      "         t = 0.0397999999999996[s]\n"
     ]
    }
   ],
   "source": [
    "T_idxmax = data['T [N]'].idxmax()\n",
    "\n",
    "print(f\"\\\n",
    "Thrust_max = {data['T [N]'][T_idxmax]}[N]\\n\\\n",
    "         t = {data['t [s]'][T_idxmax]}[s]\")"
   ]
  },
  {
   "cell_type": "markdown",
   "metadata": {},
   "source": [
    "---\n",
    "# operating time"
   ]
  },
  {
   "cell_type": "code",
   "execution_count": 69,
   "metadata": {},
   "outputs": [
    {
     "name": "stdout",
     "output_type": "stream",
     "text": [
      "t1 = 0.0027999999999934[s]\n",
      "t2 = 1.8584999999999925[s]\n",
      "operating time = 1.855699999999999[s]\n"
     ]
    }
   ],
   "source": [
    "data = data = pd.read_csv('I260_2022.06.12.csv')\n",
    "\n",
    "Tmax = data['T [N]'].max()\n",
    "\n",
    "for i in np.arange(data['T [N]'].idxmax(),-1,-1):\n",
    "    if data['T [N]'][i] < Tmax * 0.05:\n",
    "        i+=1\n",
    "        t1 = data['t [s]'][i]\n",
    "        break\n",
    "for j in np.arange(data['T [N]'].idxmax(),len(data),1):\n",
    "    if data['T [N]'][j] < Tmax * 0.05:\n",
    "        j-=1\n",
    "        t2 = data['t [s]'][j]\n",
    "        break\n",
    "print(f't1 = {t1}[s]\\nt2 = {t2}[s]\\noperating time = {t2 - t1}[s]')"
   ]
  },
  {
   "cell_type": "markdown",
   "metadata": {},
   "source": [
    "* Total impulse & mean thrust & thrust max"
   ]
  },
  {
   "cell_type": "code",
   "execution_count": 70,
   "metadata": {},
   "outputs": [
    {
     "name": "stdout",
     "output_type": "stream",
     "text": [
      "Total impulse : 496.0658967185912 [Ns]\n",
      "mean thrust   : 267.3200930746308 [N]\n",
      "\n"
     ]
    }
   ],
   "source": [
    "data = data = pd.read_csv('I260_2022.06.12.csv')\n",
    "\n",
    "Tmax = data['T [N]'].max()\n",
    "\n",
    "for i in np.arange(data['T [N]'].idxmax(),-1,-1):\n",
    "    if data['T [N]'][i] < Tmax * 0.05:\n",
    "        i+=1\n",
    "        t1 = data['t [s]'][i]\n",
    "        break\n",
    "for j in np.arange(data['T [N]'].idxmax(),len(data),1):\n",
    "    if data['T [N]'][j] < Tmax * 0.05:\n",
    "        j-=1\n",
    "        t2 = data['t [s]'][j]\n",
    "        break\n",
    "\n",
    "Total_T = 0\n",
    "for n in np.arange(i,j,1):\n",
    "    dt = round(data['t [s]'][n+1] - data['t [s]'][n],10)\n",
    "    dT = data['T [N]'][n]\n",
    "    \n",
    "    Ts =dt * dT\n",
    "    Total_T += Ts\n",
    "\n",
    "print(f\"\\\n",
    "Total impulse : {Total_T} [Ns]\\n\\\n",
    "mean thrust   : {data['T [N]'][i:j].mean()} [N]\\n\")"
   ]
  },
  {
   "cell_type": "markdown",
   "metadata": {},
   "source": [
    "* dT/dt define"
   ]
  },
  {
   "cell_type": "code",
   "execution_count": 71,
   "metadata": {},
   "outputs": [],
   "source": [
    "# for n in np.arange(0,len(data)-1,1):\n",
    "#     dT = round((data['T [N]'][n+1] - data['T [N]'][n]) / (data['t [s]'][n+1] - data['t [s]'][n]),10)\n",
    "#     print(dT)"
   ]
  },
  {
   "cell_type": "markdown",
   "metadata": {},
   "source": [
    "---\n",
    "# burning time"
   ]
  },
  {
   "cell_type": "code",
   "execution_count": 72,
   "metadata": {},
   "outputs": [
    {
     "name": "stdout",
     "output_type": "stream",
     "text": [
      "t1 = 0.0027999999999934[s]\n",
      "t2 = 1.3464999999999918[s]\n",
      "buring time = 1.3436999999999983[s]\n"
     ]
    }
   ],
   "source": [
    "data = data = pd.read_csv('I260_2022.06.12.csv')\n",
    "\n",
    "Tmax = data['T [N]'].max()\n",
    "\n",
    "for i in np.arange(data['T [N]'].idxmax(),-1,-1):\n",
    "    if data['T [N]'][i] < Tmax * 0.05:\n",
    "        i+=1\n",
    "        t1 = data['t [s]'][i]\n",
    "        break\n",
    "for j in np.arange(data['T [N]'].idxmax(),len(data),1):\n",
    "    if data['T [N]'][j] < Tmax * 0.05:\n",
    "        j-=1\n",
    "        t2 = data['t [s]'][j]\n",
    "        break\n",
    "\n",
    "for k in np.arange(data['T [N]'].idxmax(),len(data),1):\n",
    "    if data['T [N]'][k] <= data['T [N]'][i:j].mean()*0.75:\n",
    "        if (data['T [N]'][k+1] - data['T [N]'][k])/(data['t [s]'][k+1] - data['t [s]'][k]) <= 0:\n",
    "            if (data['T [N]'][k+2] - data['T [N]'][k+1])/(data['t [s]'][k+2] - data['t [s]'][k+1]) <= 0:\n",
    "                if (data['T [N]'][k+3] - data['T [N]'][k+2])/(data['t [s]'][k+3] - data['t [s]'][k+2]) <= 0:\n",
    "                    k-=1\n",
    "                    t3 = data['t [s]'][k]\n",
    "                    break\n",
    "\n",
    "print(f't1 = {t1}[s]\\nt2 = {t3}[s]\\nburing time = {t3 - t1}[s]')"
   ]
  },
  {
   "cell_type": "code",
   "execution_count": 73,
   "metadata": {},
   "outputs": [
    {
     "name": "stdout",
     "output_type": "stream",
     "text": [
      "Total impulse : 454.2818195810583 [Ns]\n",
      "mean thrust   : 338.08277114017983 [N]\n",
      "\n",
      "26.12812413506017\n",
      "200.4965574175\n",
      "0.0027999999999934\n",
      "1.3464999999999918\n"
     ]
    }
   ],
   "source": [
    "data = data = pd.read_csv('I260_2022.06.12.csv')\n",
    "\n",
    "Tmax = data['T [N]'].max()\n",
    "\n",
    "for i in np.arange(data['T [N]'].idxmax(),-1,-1):\n",
    "    if data['T [N]'][i] < Tmax * 0.05:\n",
    "        i+=1\n",
    "        t1 = data['t [s]'][i]\n",
    "        break\n",
    "for j in np.arange(data['T [N]'].idxmax(),len(data),1):\n",
    "    if data['T [N]'][j] < Tmax * 0.05:\n",
    "        j-=1\n",
    "        t2 = data['t [s]'][j]\n",
    "        break\n",
    "# for k in np.arange(len(data)-1,0,-1):\n",
    "for k in np.arange(data['T [N]'].idxmax(),len(data),1):\n",
    "    if data['T [N]'][k] <= data['T [N]'][i:j].mean()*0.75:\n",
    "        if (data['T [N]'][k] - data['T [N]'][k])/(data['t [s]'][k+1] - data['t [s]'][k]) <= 0:\n",
    "            if (data['T [N]'][k+2] - data['T [N]'][k+1])/(data['t [s]'][k+2] - data['t [s]'][k+1]) <= 0:\n",
    "                if (data['T [N]'][k+3] - data['T [N]'][k+2])/(data['t [s]'][k+3] - data['t [s]'][k+2]) <= 0:\n",
    "                    k-=1\n",
    "                    t3 = data['t [s]'][k]\n",
    "                    break\n",
    "\n",
    "Total_T = 0\n",
    "for n in np.arange(i,k,1):\n",
    "    dt = round(data['t [s]'][n+1] - data['t [s]'][n],10)\n",
    "    dT = data['T [N]'][n]\n",
    "    \n",
    "    Ts = dt * dT\n",
    "    Total_T += Ts\n",
    "\n",
    "print(f\"\\\n",
    "Total impulse : {Total_T} [Ns]\\n\\\n",
    "mean thrust   : {data['T [N]'][i:k].mean()} [N]\\n\")\n",
    "\n",
    "print(data['T [N]'][i])\n",
    "print(data['T [N]'][k])\n",
    "\n",
    "print(data['t [s]'][i])\n",
    "print(data['t [s]'][k])"
   ]
  }
 ],
 "metadata": {
  "interpreter": {
   "hash": "369f2c481f4da34e4445cda3fffd2e751bd1c4d706f27375911949ba6bb62e1c"
  },
  "kernelspec": {
   "display_name": "Python 3.10.2 64-bit",
   "language": "python",
   "name": "python3"
  },
  "language_info": {
   "codemirror_mode": {
    "name": "ipython",
    "version": 3
   },
   "file_extension": ".py",
   "mimetype": "text/x-python",
   "name": "python",
   "nbconvert_exporter": "python",
   "pygments_lexer": "ipython3",
   "version": "3.10.2"
  },
  "orig_nbformat": 4
 },
 "nbformat": 4,
 "nbformat_minor": 2
}
